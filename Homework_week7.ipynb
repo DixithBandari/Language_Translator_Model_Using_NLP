{
 "cells": [
  {
   "cell_type": "markdown",
   "id": "d5896c66-b674-4e2d-a631-cb7b77c43fbd",
   "metadata": {},
   "source": [
    "1. Using Gensim, train a doc2vec model on the Brown Corpus. Try to classify documents from each category."
   ]
  },
  {
   "cell_type": "code",
   "execution_count": 2,
   "id": "2e15b9ce-212b-44b4-babe-e8588996664f",
   "metadata": {},
   "outputs": [
    {
     "name": "stderr",
     "output_type": "stream",
     "text": [
      "[nltk_data] Downloading package punkt to /Users/db/nltk_data...\n",
      "[nltk_data]   Package punkt is already up-to-date!\n"
     ]
    },
    {
     "name": "stdout",
     "output_type": "stream",
     "text": [
      "Accuracy: 0.7375\n"
     ]
    }
   ],
   "source": [
    "import gensim\n",
    "from gensim.models.doc2vec import TaggedDocument\n",
    "from nltk.corpus import brown\n",
    "from nltk.tokenize import word_tokenize\n",
    "import nltk\n",
    "nltk.download('punkt')\n",
    "\n",
    "#Loading the Brown Corpus\n",
    "brown_corpus = brown.sents()\n",
    "\n",
    "#Preprocessing the corpus and create TaggedDocuments\n",
    "tagged_data = [TaggedDocument(words=word_tokenize(' '.join(sent).lower()), tags=[str(i)]) for i, sent in enumerate(brown_corpus)]\n",
    "\n",
    "#Training the Doc2Vec model\n",
    "model = gensim.models.Doc2Vec(vector_size=100, min_count=2, epochs=40)\n",
    "model.build_vocab(tagged_data)\n",
    "model.train(tagged_data, total_examples=model.corpus_count, epochs=model.epochs)\n",
    "\n",
    "#Creating Infer document vectors for each document\n",
    "document_vectors = [model.infer_vector(doc.words) for doc in tagged_data]\n",
    "\n",
    "#Creating training data and labels\n",
    "X_train = document_vectors[:500] + document_vectors[700:1200]  # Select documents from 'news' and 'editorial' categories\n",
    "y_train = ['news'] * 500 + ['editorial'] * 500\n",
    "\n",
    "#Creating test data and labels\n",
    "X_test = document_vectors[500:700] + document_vectors[1200:1400]  # Select documents from 'news' and 'editorial' categories\n",
    "y_test = ['news'] * 200 + ['editorial'] * 200\n",
    "\n",
    "#Training a classifier (e.g., Logistic Regression) on the document vectors\n",
    "from sklearn.linear_model import LogisticRegression\n",
    "classifier = LogisticRegression()\n",
    "classifier.fit(X_train, y_train)\n",
    "\n",
    "#Evaluating the classifier\n",
    "accuracy = classifier.score(X_test, y_test)\n",
    "print(\"Accuracy:\", accuracy)\n"
   ]
  },
  {
   "cell_type": "markdown",
   "id": "bc34523d-1444-48e5-85b5-dcc04a59e073",
   "metadata": {},
   "source": [
    "   2. Use the stop word removal code from earlier on the 20 user groups:\n",
    "        \n",
    "        How does that effect the word model distance of documents?\n",
    "        \n",
    "        How does it effect the logistic regression classifier?"
   ]
  },
  {
   "cell_type": "code",
   "execution_count": null,
   "id": "19acc736-8ece-432c-ac58-672fb59701c9",
   "metadata": {},
   "outputs": [],
   "source": [
    "import nltk\n",
    "##nltk.download('stopwords')\n",
    "from nltk.corpus import stopwords\n",
    "from sklearn.model_selection import train_test_split\n",
    "from sklearn.linear_model import LogisticRegression\n",
    "from sklearn.metrics import accuracy_score\n",
    "\n",
    "#Preprocessing the corpus and create TaggedDocuments with stop word removal\n",
    "stop_words = set(stopwords.words('english'))\n",
    "tagged_data = []\n",
    "for i, sent in enumerate(brown_corpus):\n",
    "    filtered_sent = [word.lower() for word in sent if word.lower() not in stop_words]\n",
    "    tagged_data.append(TaggedDocument(words=filtered_sent, tags=[str(i)]))\n",
    "\n",
    "#Training the Doc2Vec model\n",
    "model = gensim.models.Doc2Vec(vector_size=100, min_count=2, epochs=40)\n",
    "model.build_vocab(tagged_data)\n",
    "model.train(tagged_data, total_examples=model.corpus_count, epochs=model.epochs)\n",
    "\n",
    "#Infering document vectors for each document\n",
    "document_vectors = [model.infer_vector(doc.words) for doc in tagged_data]\n",
    "\n",
    "#Splitting the dataset into train and test sets\n",
    "X_train, X_test, y_train, y_test = train_test_split(document_vectors, [str(i) for i in range(len(brown_corpus))], test_size=0.2, random_state=42)\n",
    "\n",
    "#Training logistic regression classifier without stop word removal\n",
    "classifier_no_stopwords = LogisticRegression()\n",
    "classifier_no_stopwords.fit(X_train, y_train)\n",
    "y_pred_no_stopwords = classifier_no_stopwords.predict(X_test)\n",
    "accuracy_no_stopwords = accuracy_score(y_test, y_pred_no_stopwords)\n",
    "print(\"Accuracy without stop word removal:\", accuracy_no_stopwords)\n",
    "\n",
    "#Training logistic regression classifier with stop word removal\n",
    "classifier_with_stopwords = LogisticRegression()\n",
    "classifier_with_stopwords.fit(X_train, y_train)\n",
    "y_pred_with_stopwords = classifier_with_stopwords.predict(X_test)\n",
    "accuracy_with_stopwords = accuracy_score(y_test, y_pred_with_stopwords)\n",
    "print(\"Accuracy with stop word removal:\", accuracy_with_stopwords)\n"
   ]
  },
  {
   "cell_type": "code",
   "execution_count": null,
   "id": "f9bbfaab-270a-4c50-9a2e-8f5b9098ec3e",
   "metadata": {},
   "outputs": [],
   "source": []
  }
 ],
 "metadata": {
  "kernelspec": {
   "display_name": "Python 3 (ipykernel)",
   "language": "python",
   "name": "python3"
  },
  "language_info": {
   "codemirror_mode": {
    "name": "ipython",
    "version": 3
   },
   "file_extension": ".py",
   "mimetype": "text/x-python",
   "name": "python",
   "nbconvert_exporter": "python",
   "pygments_lexer": "ipython3",
   "version": "3.11.6"
  }
 },
 "nbformat": 4,
 "nbformat_minor": 5
}
